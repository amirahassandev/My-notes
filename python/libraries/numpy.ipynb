{
 "cells": [
  {
   "cell_type": "markdown",
   "id": "62fc4791",
   "metadata": {},
   "source": [
    "# numpy\n",
    "import numpy as np"
   ]
  },
  {
   "cell_type": "markdown",
   "id": "4875984b",
   "metadata": {},
   "source": [
    "# array 1-d\n",
    "a1 = np.array([1,2,3,4,5,6,7,8])\n",
    "print(\"a1 -> \" , a1)\n",
    "print(\"a1.shape -> \" , a1.shape)\n",
    "print(\"a1[2:7] -> \" , a1[2:7])\n",
    "for i in a1:\n",
    "    print(i)"
   ]
  },
  {
   "cell_type": "markdown",
   "id": "ee747f7f",
   "metadata": {},
   "source": [
    "# array 2-d\n",
    "a2 = np.array([ \n",
    "    [1 ,2,3] , \n",
    "    [4 ,5,6] ])\n",
    "print(\"a2 -> \" , a2)\n",
    "print(\"a2.shape -> \" , a2.shape)\n",
    "print(\"a2[1 , 2] -> \" , a2[1,2])\n",
    "print(\"a2[0:2 , 1:3] -> \" , a2[0:2 , 1:3])\n",
    "for x in a2:\n",
    "    for y in x:\n",
    "        print(x , \" -> \" , y)"
   ]
  },
  {
   "cell_type": "markdown",
   "id": "155c81e5",
   "metadata": {},
   "source": [
    "# array 3-d\n",
    "a3 = np.array([ \n",
    "    [ [1 ,2,3] , [4 ,5,6] ],\n",
    "    [ [4,0, 12] , [66,44,0] ] \n",
    "    ])\n",
    "print(\"a3 -> \" , a3)\n",
    "print(\"a3.shape -> \" , a3.shape)\n",
    "for x in np.nditer(a3):\n",
    "    print(x)"
   ]
  },
  {
   "cell_type": "markdown",
   "id": "e42a745f",
   "metadata": {},
   "source": [
    "# Math in numpy\n",
    "print(\"sqrt -> \" , np.sqrt(a2))\n",
    "a3 = np.array([ \n",
    "    [1 ,-2,3] , \n",
    "    [-4 ,0,6] ])\n",
    "print(\"sort -> \" , np.sort(a3))\n",
    "print(\"absolute -> \",np.absolute(a3))\n",
    "print(\"exp -> \" , np.exp(a2))\n",
    "print(\"min -> \" , np.min(a2))\n",
    "print(\"max -> \" , np.max(a2))\n",
    "print(\"sign -> \" , np.sign(a3))\n",
    "print(\"sin -> \" , np.sin(a2))\n",
    "print(\"log -> \" , np.log(a2))"
   ]
  },
  {
   "cell_type": "markdown",
   "id": "0fb46a8b",
   "metadata": {},
   "source": [
    "# View\n",
    "v = np.array([2,3,4,5,6])\n",
    "v1 = v.view()\n",
    "v[0] = 55\n",
    "print(\"v -> \" , v)\n",
    "print(\"v1 -> \" , v1)"
   ]
  },
  {
   "cell_type": "markdown",
   "id": "577b601b",
   "metadata": {},
   "source": [
    "# Copy\n",
    "v = np.array([2,3,4,5,6])\n",
    "v1 = v.copy()\n",
    "v[0] = 55\n",
    "print(\"v -> \" , v)\n",
    "print(\"v1 -> \" , v1)"
   ]
  },
  {
   "cell_type": "markdown",
   "id": "71c37a27",
   "metadata": {},
   "source": [
    "# Where\n",
    "wh = np.array([4,2,3,4,5,6,4,8,9])\n",
    "a = np.where(wh==4)\n",
    "print(a)\n",
    "for x in a:\n",
    "    for y in x:\n",
    "        print(y)\n",
    "        "
   ]
  },
  {
   "cell_type": "markdown",
   "id": "21cfe76f",
   "metadata": {},
   "source": [
    "# Boolean\n",
    "bo = np.array([1,3,4,5,8])\n",
    "x = [True , False , True , True , False]\n",
    "print(bo[x])"
   ]
  },
  {
   "cell_type": "code",
   "execution_count": 24,
   "id": "afbd2592",
   "metadata": {},
   "outputs": [
    {
     "name": "stdout",
     "output_type": "stream",
     "text": [
      "[ 2  4  6  8 10]\n",
      "[False  True False  True False  True False  True False  True]\n"
     ]
    }
   ],
   "source": [
    "data = np.array([1,2,3,4,5,6,7,8,9,10])\n",
    "filtered = data % 2 == 0\n",
    "print(data[filtered])\n",
    "print(filtered)\n"
   ]
  },
  {
   "cell_type": "code",
   "execution_count": null,
   "id": "f31cc9ec",
   "metadata": {},
   "outputs": [],
   "source": []
  }
 ],
 "metadata": {
  "kernelspec": {
   "display_name": "Python 3 (ipykernel)",
   "language": "python",
   "name": "python3"
  },
  "language_info": {
   "codemirror_mode": {
    "name": "ipython",
    "version": 3
   },
   "file_extension": ".py",
   "mimetype": "text/x-python",
   "name": "python",
   "nbconvert_exporter": "python",
   "pygments_lexer": "ipython3",
   "version": "3.11.5"
  }
 },
 "nbformat": 4,
 "nbformat_minor": 5
}
